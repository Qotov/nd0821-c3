{
 "cells": [
  {
   "cell_type": "code",
   "execution_count": 15,
   "id": "dbe3d745",
   "metadata": {},
   "outputs": [],
   "source": [
    "import pytest\n",
    "import numpy as np\n",
    "import sys\n",
    "sys.path.insert(1, '../ml/')\n",
    "\n",
    "from model import train_model, compute_model_metrics, inference\n",
    "\n",
    "import logging\n",
    "\n",
    "logging.basicConfig(level=logging.INFO, format=\"%(asctime)-15s %(message)s\")\n",
    "logger = logging.getLogger()\n",
    "\n",
    "cat_features = [\n",
    "    \"workclass\",\n",
    "    \"education\",\n",
    "    \"marital-status\",\n",
    "    \"occupation\",\n",
    "    \"relationship\",\n",
    "    \"race\",\n",
    "    \"sex\",\n",
    "    \"native-country\",\n",
    "]\n",
    "\n",
    "\n",
    "@pytest.fixture(scope='session')\n",
    "def data():\n",
    "    X = np.array([[0, 0, 0, 0, 0, 0],\n",
    "                  [3, 3, 3, 3, 3, 3],\n",
    "                  [4, 4,4, 4, 4, 4],\n",
    "                  [5, 5, 5, 5, 5, 5],\n",
    "                  [6, 6, 6, 6, 6, 6]])\n",
    "\n",
    "    y = np.array([1, 1, 1, 1, 0])\n",
    "    return X, y\n"
   ]
  },
  {
   "cell_type": "code",
   "execution_count": 11,
   "id": "6d2eb1b5",
   "metadata": {},
   "outputs": [],
   "source": [
    "@pytest.fixture(scope='session')\n",
    "def preds():\n",
    "    return np.array([0, 1, 1, 1, 0])\n",
    "\n",
    "\n",
    "def test_train_model(data):\n",
    "    X_train, y_train = data\n",
    "\n",
    "    model = LogisticRegression()\n",
    "    model_ = train_model(X_train, y_train)\n",
    "    assert type(model_) == type(model), \\\n",
    "        'model is not logreg, instead got type:{}'.format(type(model_))\n",
    "    assert model_ is not model, \\\n",
    "        'object identity MUST be different'\n",
    "\n",
    "\n",
    "def test_inference(data):\n",
    "    X, y = data\n",
    "    model = LogisticRegression()\n",
    "    model = model.fit(X, y)\n",
    "    preds = inference(model, X)\n",
    "\n",
    "    assert isinstance(preds, np.ndarray), \\\n",
    "        'preds is not an array, instead got type: {}'.format(type(preds))\n",
    "    assert len(preds) == len(y), \\\n",
    "        f'length of predicted values do not match, expected: {len(y)}, instead got: {len(preds)}'\n",
    "\n",
    "\n",
    "def test_compute_model_metrics(data, preds):\n",
    "    _, y = data\n",
    "    precision, recall, fbeta = compute_model_metrics(y, preds)\n",
    "    assert isinstance(precision, float), \\\n",
    "        'precision in not a float, instead got type: {}'.format(type(precision))\n",
    "    assert isinstance(recall, float), \\\n",
    "        'recall in not a float, instead got type: {}'.format(type(recall))\n",
    "    assert isinstance(fbeta, float), \\\n",
    "        'fbeta in not a float, instead got type: {}'.format(type(fbeta))"
   ]
  },
  {
   "cell_type": "code",
   "execution_count": 17,
   "id": "92cecad9",
   "metadata": {},
   "outputs": [
    {
     "data": {
      "text/plain": [
       "<function __main__.data()>"
      ]
     },
     "execution_count": 17,
     "metadata": {},
     "output_type": "execute_result"
    }
   ],
   "source": [
    "data"
   ]
  }
 ],
 "metadata": {
  "kernelspec": {
   "display_name": "Python 3 (ipykernel)",
   "language": "python",
   "name": "python3"
  },
  "language_info": {
   "codemirror_mode": {
    "name": "ipython",
    "version": 3
   },
   "file_extension": ".py",
   "mimetype": "text/x-python",
   "name": "python",
   "nbconvert_exporter": "python",
   "pygments_lexer": "ipython3",
   "version": "3.8.12"
  }
 },
 "nbformat": 4,
 "nbformat_minor": 5
}
